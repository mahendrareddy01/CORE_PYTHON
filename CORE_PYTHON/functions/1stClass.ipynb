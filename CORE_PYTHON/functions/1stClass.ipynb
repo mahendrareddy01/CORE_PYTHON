{
  "cells": [
    {
      "cell_type": "code",
      "execution_count": 4,
      "id": "1a26cc8c",
      "metadata": {},
      "outputs": [
        {
          "name": "stdout",
          "output_type": "stream",
          "text": [
            "This is Sheela\n",
            "How are you?\n",
            "This is Sheela\n",
            "How are you?\n"
          ]
        }
      ],
      "source": [
        "def sheela():\n",
        "    print(\"This is Sheela\")\n",
        "    print(\"How are you?\")\n",
        "sheela()    \n",
        "sheela()    "
      ]
    }
  ],
  "metadata": {
    "kernelspec": {
      "display_name": "Python 3",
      "language": "python",
      "name": "python3"
    },
    "language_info": {
      "codemirror_mode": {
        "name": "ipython",
        "version": 3
      },
      "file_extension": ".py",
      "mimetype": "text/x-python",
      "name": "python",
      "nbconvert_exporter": "python",
      "pygments_lexer": "ipython3",
      "version": "3.12.6"
    }
  },
  "nbformat": 4,
  "nbformat_minor": 5
}
