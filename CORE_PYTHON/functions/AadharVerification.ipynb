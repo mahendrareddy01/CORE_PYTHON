{
 "cells": [
  {
   "cell_type": "code",
   "execution_count": 1,
   "id": "6dc66ff5",
   "metadata": {},
   "outputs": [
    {
     "name": "stdout",
     "output_type": "stream",
     "text": [
      "Valid\n"
     ]
    }
   ],
   "source": [
    "def verify_aadhar(aadhar):\n",
    "    if len(aadhar)==12 and aadhar[0] not in ('0','1'):\n",
    "        for i in aadhar:\n",
    "            if i>='0' and i<='9':\n",
    "                return \"Valid\"\n",
    "            else:\n",
    "                return \"Invalid\"\n",
    "    else:\n",
    "        return \"Invalid\"\n",
    "print(verify_aadhar('492910074557'))            "
   ]
  }
 ],
 "metadata": {
  "kernelspec": {
   "display_name": "Python 3",
   "language": "python",
   "name": "python3"
  },
  "language_info": {
   "codemirror_mode": {
    "name": "ipython",
    "version": 3
   },
   "file_extension": ".py",
   "mimetype": "text/x-python",
   "name": "python",
   "nbconvert_exporter": "python",
   "pygments_lexer": "ipython3",
   "version": "3.12.6"
  }
 },
 "nbformat": 4,
 "nbformat_minor": 5
}
