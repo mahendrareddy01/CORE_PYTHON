{
 "cells": [
  {
   "cell_type": "code",
   "execution_count": 3,
   "id": "b22bdf03",
   "metadata": {},
   "outputs": [
    {
     "name": "stdout",
     "output_type": "stream",
     "text": [
      "45\n"
     ]
    }
   ],
   "source": [
    "def calculate_bill(order,menu):\n",
    "    if len(order)==0:\n",
    "        return '0'\n",
    "    else:\n",
    "        s=0\n",
    "        for i in order:\n",
    "            s+=menu[i]\n",
    "        return s\n",
    "menu = {\"chai\": 20, \"coffee\": 30, \"samosa\": 15}    \n",
    "print(calculate_bill(['samosa','coffee'],menu))       \n",
    "\n"
   ]
  }
 ],
 "metadata": {
  "kernelspec": {
   "display_name": "Python 3",
   "language": "python",
   "name": "python3"
  },
  "language_info": {
   "codemirror_mode": {
    "name": "ipython",
    "version": 3
   },
   "file_extension": ".py",
   "mimetype": "text/x-python",
   "name": "python",
   "nbconvert_exporter": "python",
   "pygments_lexer": "ipython3",
   "version": "3.12.6"
  }
 },
 "nbformat": 4,
 "nbformat_minor": 5
}
