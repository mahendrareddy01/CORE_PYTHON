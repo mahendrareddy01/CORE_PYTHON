{
 "cells": [
  {
   "cell_type": "code",
   "execution_count": 5,
   "id": "c160ed09",
   "metadata": {},
   "outputs": [
    {
     "name": "stdout",
     "output_type": "stream",
     "text": [
      "360.0\n"
     ]
    }
   ],
   "source": [
    "def estimate_delivery_time(distance, traffic):\n",
    "    if traffic=='low':\n",
    "        t=(distance/40)*60\n",
    "        return t\n",
    "    elif traffic=='medium':\n",
    "        t=(distance/25)*60\n",
    "        return t\n",
    "    else:\n",
    "        t=(distance/10)*60\n",
    "        return t\n",
    "print(estimate_delivery_time(60,'high'))    \n"
   ]
  }
 ],
 "metadata": {
  "kernelspec": {
   "display_name": "Python 3",
   "language": "python",
   "name": "python3"
  },
  "language_info": {
   "codemirror_mode": {
    "name": "ipython",
    "version": 3
   },
   "file_extension": ".py",
   "mimetype": "text/x-python",
   "name": "python",
   "nbconvert_exporter": "python",
   "pygments_lexer": "ipython3",
   "version": "3.12.6"
  }
 },
 "nbformat": 4,
 "nbformat_minor": 5
}
