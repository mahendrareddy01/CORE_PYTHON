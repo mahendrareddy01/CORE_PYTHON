{
 "cells": [
  {
   "cell_type": "code",
   "execution_count": 1,
   "id": "c0aa0a65",
   "metadata": {},
   "outputs": [
    {
     "name": "stdout",
     "output_type": "stream",
     "text": [
      "1770\n"
     ]
    }
   ],
   "source": [
    "def calculate_gst_total(prices,gst):\n",
    "    s=0.0\n",
    "    for i in prices:\n",
    "        s+=i\n",
    "    if s==0.0:\n",
    "        return 0.0\n",
    "    else:\n",
    "        gst1=s+(s*gst)/100\n",
    "        return round(gst1)\n",
    "print(calculate_gst_total([1000,500],18))    "
   ]
  }
 ],
 "metadata": {
  "kernelspec": {
   "display_name": "Python 3",
   "language": "python",
   "name": "python3"
  },
  "language_info": {
   "codemirror_mode": {
    "name": "ipython",
    "version": 3
   },
   "file_extension": ".py",
   "mimetype": "text/x-python",
   "name": "python",
   "nbconvert_exporter": "python",
   "pygments_lexer": "ipython3",
   "version": "3.12.6"
  }
 },
 "nbformat": 4,
 "nbformat_minor": 5
}
