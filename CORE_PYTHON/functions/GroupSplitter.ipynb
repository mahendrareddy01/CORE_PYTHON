{
 "cells": [
  {
   "cell_type": "code",
   "execution_count": 1,
   "id": "9c74f2d7",
   "metadata": {},
   "outputs": [
    {
     "name": "stdout",
     "output_type": "stream",
     "text": [
      "212.5\n"
     ]
    }
   ],
   "source": [
    "def split_fare(total,people):\n",
    "    if people>3:\n",
    "        t=total-(total*0.15)\n",
    "        return t/people\n",
    "    else:\n",
    "        return total/people\n",
    "print(split_fare(1000,4))    "
   ]
  }
 ],
 "metadata": {
  "kernelspec": {
   "display_name": "Python 3",
   "language": "python",
   "name": "python3"
  },
  "language_info": {
   "codemirror_mode": {
    "name": "ipython",
    "version": 3
   },
   "file_extension": ".py",
   "mimetype": "text/x-python",
   "name": "python",
   "nbconvert_exporter": "python",
   "pygments_lexer": "ipython3",
   "version": "3.12.6"
  }
 },
 "nbformat": 4,
 "nbformat_minor": 5
}
