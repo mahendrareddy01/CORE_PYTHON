{
 "cells": [
  {
   "cell_type": "code",
   "execution_count": 7,
   "id": "f300fbd1",
   "metadata": {},
   "outputs": [],
   "source": [
    "def avgList(l,s=0):\n",
    "    for i in l:\n",
    "        s+=i\n",
    "    return s/len(l)\n",
    "    "
   ]
  },
  {
   "cell_type": "code",
   "execution_count": 18,
   "id": "a6f01aa4",
   "metadata": {},
   "outputs": [
    {
     "name": "stdout",
     "output_type": "stream",
     "text": [
      "(7.0, [5, 9])\n"
     ]
    }
   ],
   "source": [
    "def maxAvgSubList(l,maxAvg=0,subList=[]):\n",
    "    for i in range(len(l)):\n",
    "        for j in range(i+1,len(l)):\n",
    "            s=l[i:j]\n",
    "            if len(s)>1 and maxAvg<avgList(s):\n",
    "                maxAvg=avgList(s)\n",
    "                subList=s\n",
    "    return maxAvg,subList\n",
    "print(maxAvgSubList([0,-5,2,5,9,-4,10]))            "
   ]
  }
 ],
 "metadata": {
  "kernelspec": {
   "display_name": "Python 3",
   "language": "python",
   "name": "python3"
  },
  "language_info": {
   "codemirror_mode": {
    "name": "ipython",
    "version": 3
   },
   "file_extension": ".py",
   "mimetype": "text/x-python",
   "name": "python",
   "nbconvert_exporter": "python",
   "pygments_lexer": "ipython3",
   "version": "3.12.6"
  }
 },
 "nbformat": 4,
 "nbformat_minor": 5
}
