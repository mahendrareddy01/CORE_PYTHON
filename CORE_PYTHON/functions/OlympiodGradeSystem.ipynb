{
 "cells": [
  {
   "cell_type": "code",
   "execution_count": 2,
   "id": "90700fb4",
   "metadata": {},
   "outputs": [
    {
     "name": "stdout",
     "output_type": "stream",
     "text": [
      "Gold\n",
      "Silver\n"
     ]
    }
   ],
   "source": [
    "def assign_grade(marks):\n",
    "    s=0\n",
    "    avg=0\n",
    "    for i in marks:\n",
    "        s+=i\n",
    "    l=len(marks)\n",
    "    avg=s/l\n",
    "    c=0\n",
    "    if avg>90:\n",
    "        for i in marks:\n",
    "            if i>=85:\n",
    "                c+=1\n",
    "        if c==l:\n",
    "            return \"Gold\"\n",
    "    elif avg>75:\n",
    "        return \"Silver\"\n",
    "    else:\n",
    "        return \"Try Again\"\n",
    "print(assign_grade([91,95,89,92,93])) \n",
    "print(assign_grade([75,85,93,65,69]))               "
   ]
  }
 ],
 "metadata": {
  "kernelspec": {
   "display_name": "Python 3",
   "language": "python",
   "name": "python3"
  },
  "language_info": {
   "codemirror_mode": {
    "name": "ipython",
    "version": 3
   },
   "file_extension": ".py",
   "mimetype": "text/x-python",
   "name": "python",
   "nbconvert_exporter": "python",
   "pygments_lexer": "ipython3",
   "version": "3.12.6"
  }
 },
 "nbformat": 4,
 "nbformat_minor": 5
}
