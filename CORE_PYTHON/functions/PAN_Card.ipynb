{
 "cells": [
  {
   "cell_type": "code",
   "execution_count": 3,
   "id": "69abec78",
   "metadata": {},
   "outputs": [
    {
     "name": "stdout",
     "output_type": "stream",
     "text": [
      "False\n"
     ]
    }
   ],
   "source": [
    "def is_valid_pan(pan):\n",
    "    l=len(pan)\n",
    "    if l!=10:\n",
    "        return False\n",
    "    else:\n",
    "        c=0\n",
    "        for i in pan[0:5]:\n",
    "            if i>='A' and i<='Z':\n",
    "                c+=1\n",
    "        if c!=5:\n",
    "            return False\n",
    "        else:\n",
    "            c1=0\n",
    "            for i in pan[5:9]:\n",
    "                if i>='0' and i<='9':\n",
    "                    c1+=1\n",
    "            if c1!=4:\n",
    "                return False\n",
    "            else:\n",
    "                c2=0\n",
    "                if pan[9]>='A' and pan[9]<='Z':\n",
    "                    c2+=1\n",
    "            if c2==1:\n",
    "                return True\n",
    "            else:\n",
    "                return False\n",
    "print(is_valid_pan('ABCDE1234m'))                            \n",
    "        \n",
    "\n",
    "\n",
    "\n"
   ]
  }
 ],
 "metadata": {
  "kernelspec": {
   "display_name": "Python 3",
   "language": "python",
   "name": "python3"
  },
  "language_info": {
   "codemirror_mode": {
    "name": "ipython",
    "version": 3
   },
   "file_extension": ".py",
   "mimetype": "text/x-python",
   "name": "python",
   "nbconvert_exporter": "python",
   "pygments_lexer": "ipython3",
   "version": "3.12.6"
  }
 },
 "nbformat": 4,
 "nbformat_minor": 5
}
