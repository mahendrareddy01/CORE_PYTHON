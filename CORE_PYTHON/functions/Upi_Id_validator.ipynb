{
 "cells": [
  {
   "cell_type": "code",
   "execution_count": 2,
   "id": "d7f5614c",
   "metadata": {},
   "outputs": [
    {
     "name": "stdout",
     "output_type": "stream",
     "text": [
      "Invalid\n"
     ]
    }
   ],
   "source": [
    "def is_valid_upi(upi_id):\n",
    "    l=['@ybl','@oksbi','@okhdfc']\n",
    "    s=''\n",
    "    for i in range(len(upi_id)):\n",
    "        if upi_id[i]=='@':\n",
    "            t=i\n",
    "            break\n",
    "    s=upi_id[i:len(upi_id)+1] \n",
    "    if s in l:\n",
    "        return \"Valid\"\n",
    "    else:\n",
    "        return \"Invalid\"\n",
    "print(is_valid_upi('mahi@xyz'))       \n"
   ]
  }
 ],
 "metadata": {
  "kernelspec": {
   "display_name": "Python 3",
   "language": "python",
   "name": "python3"
  },
  "language_info": {
   "codemirror_mode": {
    "name": "ipython",
    "version": 3
   },
   "file_extension": ".py",
   "mimetype": "text/x-python",
   "name": "python",
   "nbconvert_exporter": "python",
   "pygments_lexer": "ipython3",
   "version": "3.12.6"
  }
 },
 "nbformat": 4,
 "nbformat_minor": 5
}
