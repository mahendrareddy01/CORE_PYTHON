{
 "cells": [
  {
   "cell_type": "code",
   "execution_count": 2,
   "id": "6015b735",
   "metadata": {},
   "outputs": [
    {
     "name": "stdout",
     "output_type": "stream",
     "text": [
      "Unknown\n"
     ]
    }
   ],
   "source": [
    "def get_state_from_vehicle(vehicle):\n",
    "    codes={\"KA\":\"Karnataka\",'MH':'Maharashtra',\"DL\":\"Delhi\"}\n",
    "    code=vehicle[0:2]\n",
    "    if code in codes:\n",
    "        return codes[code]\n",
    "    else:\n",
    "        return \"Unknown\"\n",
    "print(get_state_from_vehicle('MA15'))"
   ]
  }
 ],
 "metadata": {
  "kernelspec": {
   "display_name": "Python 3",
   "language": "python",
   "name": "python3"
  },
  "language_info": {
   "codemirror_mode": {
    "name": "ipython",
    "version": 3
   },
   "file_extension": ".py",
   "mimetype": "text/x-python",
   "name": "python",
   "nbconvert_exporter": "python",
   "pygments_lexer": "ipython3",
   "version": "3.12.6"
  }
 },
 "nbformat": 4,
 "nbformat_minor": 5
}
