{
 "cells": [
  {
   "cell_type": "code",
   "execution_count": 2,
   "id": "b07d4c4c",
   "metadata": {},
   "outputs": [
    {
     "name": "stdout",
     "output_type": "stream",
     "text": [
      "Not Tech Number\n"
     ]
    }
   ],
   "source": [
    "def techNumber(n):\n",
    "    t=n\n",
    "    c=0\n",
    "    while n>0:\n",
    "        c+=1\n",
    "        n//=10\n",
    "    if c%2==1:\n",
    "        print(\"Not Tech Number\")\n",
    "    else:\n",
    "        fh=t//(10**(c//2))\n",
    "        sh=t%(10**(c//2))\n",
    "        s=fh+sh\n",
    "        sq=s**2\n",
    "        if sq==t:\n",
    "            print(\"Tech Number\")\n",
    "        else:\n",
    "            print(\"Not Tech Number\")\n",
    "techNumber(3026)                        "
   ]
  }
 ],
 "metadata": {
  "kernelspec": {
   "display_name": "Python 3",
   "language": "python",
   "name": "python3"
  },
  "language_info": {
   "codemirror_mode": {
    "name": "ipython",
    "version": 3
   },
   "file_extension": ".py",
   "mimetype": "text/x-python",
   "name": "python",
   "nbconvert_exporter": "python",
   "pygments_lexer": "ipython3",
   "version": "3.12.6"
  }
 },
 "nbformat": 4,
 "nbformat_minor": 5
}
